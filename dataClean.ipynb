{
 "cells": [
  {
   "cell_type": "markdown",
   "metadata": {},
   "source": [
    "Slide 1: Goals\n",
    "\n",
    "- Upload piece of artwork and get:\n",
    "\n",
    "        Closest 2 or 3 styles"
   ]
  },
  {
   "cell_type": "markdown",
   "metadata": {},
   "source": [
    "# Patch File Names"
   ]
  },
  {
   "cell_type": "code",
   "execution_count": 1,
   "metadata": {},
   "outputs": [
    {
     "name": "stderr",
     "output_type": "stream",
     "text": [
      "/var/folders/6f/pl962ydj69n83g5xbrl18kgw0000gn/T/ipykernel_71270/186483785.py:1: DeprecationWarning: \n",
      "Pyarrow will become a required dependency of pandas in the next major release of pandas (pandas 3.0),\n",
      "(to allow more performant data types, such as the Arrow string type, and better interoperability with other libraries)\n",
      "but was not found to be installed on your system.\n",
      "If this would cause problems for you,\n",
      "please provide us feedback at https://github.com/pandas-dev/pandas/issues/54466\n",
      "        \n",
      "  import pandas as pd\n"
     ]
    }
   ],
   "source": [
    "import pandas as pd\n",
    "from pandas import read_csv\n",
    "import os\n",
    "import tensorflow as tf\n",
    "from tensorflow.keras import layers\n",
    "import glob\n",
    "import PIL\n",
    "import numpy as np\n",
    "import shutil\n",
    "from glob import glob"
   ]
  },
  {
   "cell_type": "code",
   "execution_count": 13,
   "metadata": {},
   "outputs": [
    {
     "name": "stdout",
     "output_type": "stream",
     "text": [
      "/Users/juliafrench/Desktop/WikiArt/archive/Art_Nouveau_Modern/eugã¨ne-grasset_a-la-place-clichy.jpg\n",
      "/Users/juliafrench/Desktop/WikiArt/archive/Art_Nouveau_Modern/eugã¨ne-grasset_abricotine.jpg\n",
      "/Users/juliafrench/Desktop/WikiArt/archive/Art_Nouveau_Modern/eugã¨ne-grasset_affiche-pour-the-century-magazine-napol-on.jpg\n",
      "/Users/juliafrench/Desktop/WikiArt/archive/Art_Nouveau_Modern/eugã¨ne-grasset_anxi-t-1897.jpg\n",
      "/Users/juliafrench/Desktop/WikiArt/archive/Art_Nouveau_Modern/eugã¨ne-grasset_bonne-nouvelle.jpg\n",
      "/Users/juliafrench/Desktop/WikiArt/archive/Art_Nouveau_Modern/eugã¨ne-grasset_encre-l-marquet.jpg\n",
      "/Users/juliafrench/Desktop/WikiArt/archive/Art_Nouveau_Modern/eugã¨ne-grasset_esclarmonde.jpg\n",
      "/Users/juliafrench/Desktop/WikiArt/archive/Art_Nouveau_Modern/eugã¨ne-grasset_froideur.jpg\n",
      "/Users/juliafrench/Desktop/WikiArt/archive/Art_Nouveau_Modern/eugã¨ne-grasset_girl-in-the-garden.jpg\n",
      "/Users/juliafrench/Desktop/WikiArt/archive/Art_Nouveau_Modern/eugã¨ne-grasset_grafton-gallery-from-les-affiche-illustrees-1897.jpg\n",
      "/Users/juliafrench/Desktop/WikiArt/archive/Art_Nouveau_Modern/eugã¨ne-grasset_harper-s-magazine.jpg\n",
      "/Users/juliafrench/Desktop/WikiArt/archive/Art_Nouveau_Modern/eugã¨ne-grasset_jalousie.jpg\n",
      "/Users/juliafrench/Desktop/WikiArt/archive/Art_Nouveau_Modern/eugã¨ne-grasset_joan-of-arc-1894.jpg\n",
      "/Users/juliafrench/Desktop/WikiArt/archive/Art_Nouveau_Modern/eugã¨ne-grasset_la-belle-jardiniere-april-1896.jpg\n",
      "/Users/juliafrench/Desktop/WikiArt/archive/Art_Nouveau_Modern/eugã¨ne-grasset_la-belle-jardiniere-august-1896.jpg\n",
      "/Users/juliafrench/Desktop/WikiArt/archive/Art_Nouveau_Modern/eugã¨ne-grasset_la-belle-jardiniere-december-1896.jpg\n",
      "/Users/juliafrench/Desktop/WikiArt/archive/Art_Nouveau_Modern/eugã¨ne-grasset_la-belle-jardiniere-february-1896.jpg\n",
      "/Users/juliafrench/Desktop/WikiArt/archive/Art_Nouveau_Modern/eugã¨ne-grasset_la-belle-jardiniere-january-1896.jpg\n",
      "/Users/juliafrench/Desktop/WikiArt/archive/Art_Nouveau_Modern/eugã¨ne-grasset_la-belle-jardiniere-july-1896.jpg\n",
      "/Users/juliafrench/Desktop/WikiArt/archive/Art_Nouveau_Modern/eugã¨ne-grasset_la-belle-jardiniere-june-1896.jpg\n",
      "/Users/juliafrench/Desktop/WikiArt/archive/Art_Nouveau_Modern/eugã¨ne-grasset_la-belle-jardiniere-march-1896.jpg\n"
     ]
    }
   ],
   "source": [
    "ds_path = \"/Users/juliafrench/Desktop/WikiArt/archive\"\n",
    "\n",
    "df_classes = pd.read_csv(f\"{ds_path}/classes.csv\")\n",
    "filenames = [ f\"{ds_path}/{f}\" for f in df_classes[\"filename\"].values ]\n",
    "\n",
    "c = 0\n",
    "for f in filenames:\n",
    "    if not os.path.isfile(f):\n",
    "        c += 1\n",
    "        print(f)\n",
    "    if c > 20:\n",
    "        break"
   ]
  },
  {
   "cell_type": "code",
   "execution_count": 14,
   "metadata": {},
   "outputs": [],
   "source": [
    "\n",
    "def patch_filename (f):\n",
    "    f = f.replace(\"ã¨\",\"├г┬и\").replace(\"ã­\",\"├г┬н\").replace(\"ã©\",\"├г┬й\").replace(\"ã³\",\"├г┬│\")\n",
    "    f = f.replace(\"ã¶\",\"├г┬╢\").replace(\"ã¼\",\"├г┬╝\").replace(\"â\\xa0\",\"├в┬а\")\n",
    "    return f\n",
    "    \n",
    "    \n",
    "\n",
    "df_classes = pd.read_csv(f\"{ds_path}/classes.csv\")\n",
    "df_classes[\"filename\"] = df_classes[\"filename\"].map(lambda filename: patch_filename(filename) )"
   ]
  },
  {
   "cell_type": "code",
   "execution_count": 15,
   "metadata": {},
   "outputs": [],
   "source": [
    "filenames = [ f\"{ds_path}/{f}\" for f in df_classes[\"filename\"].values ]\n",
    "\n",
    "\n",
    "for f in filenames:\n",
    "    if not os.path.isfile(f):\n",
    "        print(f)"
   ]
  },
  {
   "cell_type": "code",
   "execution_count": 16,
   "metadata": {},
   "outputs": [
    {
     "name": "stdout",
     "output_type": "stream",
     "text": [
      "                                                filename  ...            subset\n",
      "0      Abstract_Expressionism/aaron-siskind_acolman-1...  ...             train\n",
      "1      Abstract_Expressionism/aaron-siskind_chicago-6...  ...             train\n",
      "2      Abstract_Expressionism/aaron-siskind_glouceste...  ...             train\n",
      "3      Abstract_Expressionism/aaron-siskind_jerome-ar...  ...             train\n",
      "4      Abstract_Expressionism/aaron-siskind_kentucky-...  ...             train\n",
      "...                                                  ...  ...               ...\n",
      "80037  Impressionism/edgar-degas_portrait-of-mary-cas...  ...  uncertain artist\n",
      "80038  High_Renaissance/giorgione_portrait-of-a-venet...  ...  uncertain artist\n",
      "80039  High_Renaissance/titian_portrait-of-a-venetian...  ...  uncertain artist\n",
      "80040  High_Renaissance/pinturicchio_riconciliazione-...  ...  uncertain artist\n",
      "80041  High_Renaissance/luca-signorelli_coriolanus-pe...  ...  uncertain artist\n",
      "\n",
      "[80042 rows x 9 columns]\n"
     ]
    }
   ],
   "source": [
    "print(df_classes)"
   ]
  },
  {
   "cell_type": "code",
   "execution_count": 17,
   "metadata": {},
   "outputs": [],
   "source": [
    "df_classes.to_csv('classes_patched.csv', index=False)  "
   ]
  },
  {
   "cell_type": "code",
   "execution_count": 2,
   "metadata": {},
   "outputs": [],
   "source": [
    "data = read_csv(\"/Users/juliafrench/Desktop/WikiArt/archive/classes_patched.csv\")\n",
    "\n",
    "artists = data['artist'].tolist()"
   ]
  },
  {
   "cell_type": "code",
   "execution_count": 4,
   "metadata": {},
   "outputs": [],
   "source": [
    "unique_artists = list(set(artists)) "
   ]
  },
  {
   "cell_type": "code",
   "execution_count": 5,
   "metadata": {},
   "outputs": [],
   "source": [
    "allArtists = []\n",
    "for a in unique_artists:\n",
    "    artist_string = a.replace(' ', '_')\n",
    "    allArtists.append(artist_string)\n"
   ]
  },
  {
   "cell_type": "code",
   "execution_count": 7,
   "metadata": {},
   "outputs": [],
   "source": [
    "root_path = '/Users/juliafrench/Desktop/WikiArt/archiveArtists'\n",
    "\n",
    "for items in allArtists:\n",
    "    path = os.path.join(root_path, items)\n",
    "    os.mkdir(path)"
   ]
  },
  {
   "cell_type": "code",
   "execution_count": null,
   "metadata": {},
   "outputs": [],
   "source": [
    "traindf=pd.read_csv('/Users/juliafrench/Desktop/WikiArt/archive/classes_patched.csv',dtype=str)"
   ]
  }
 ],
 "metadata": {
  "kernelspec": {
   "display_name": "Python 3",
   "language": "python",
   "name": "python3"
  },
  "language_info": {
   "codemirror_mode": {
    "name": "ipython",
    "version": 3
   },
   "file_extension": ".py",
   "mimetype": "text/x-python",
   "name": "python",
   "nbconvert_exporter": "python",
   "pygments_lexer": "ipython3",
   "version": "3.12.1"
  }
 },
 "nbformat": 4,
 "nbformat_minor": 2
}
