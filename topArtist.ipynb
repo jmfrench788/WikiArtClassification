{
 "cells": [
  {
   "cell_type": "code",
   "execution_count": 5,
   "metadata": {},
   "outputs": [],
   "source": [
    "\n",
    "import pandas as pd\n",
    "import numpy as np\n",
    "import os\n",
    "import shutil\n",
    "\n"
   ]
  },
  {
   "cell_type": "code",
   "execution_count": 8,
   "metadata": {},
   "outputs": [],
   "source": [
    "data=pd.read_csv('/Users/juliafrench/Desktop/WikiArt/top_artist.csv',dtype=str)\n",
    "\n",
    "alldata=pd.read_csv('/Users/juliafrench/Desktop/WikiArt/archive/classes_patched.csv',dtype=str)\n",
    "\n",
    "df = pd.DataFrame(data)\n",
    "allData = pd.DataFrame(alldata)"
   ]
  },
  {
   "cell_type": "code",
   "execution_count": 11,
   "metadata": {},
   "outputs": [
    {
     "name": "stdout",
     "output_type": "stream",
     "text": [
      "                   artist img_count\n",
      "0          albrecht durer       828\n",
      "1        aleksey savrasov       235\n",
      "2           alfred sisley       465\n",
      "3       amedeo modigliani       347\n",
      "4             andy warhol       209\n",
      "..                    ...       ...\n",
      "76    vasily vereshchagin       223\n",
      "77       vincent van gogh      1888\n",
      "78  william merritt chase       373\n",
      "79         william turner       226\n",
      "80   zinaida serebriakova       361\n",
      "\n",
      "[81 rows x 2 columns]\n"
     ]
    }
   ],
   "source": [
    "print(df)"
   ]
  },
  {
   "cell_type": "code",
   "execution_count": 13,
   "metadata": {},
   "outputs": [],
   "source": [
    "top_artist = allData[allData['artist'].isin(df['artist'])]"
   ]
  },
  {
   "cell_type": "code",
   "execution_count": 14,
   "metadata": {},
   "outputs": [
    {
     "name": "stdout",
     "output_type": "stream",
     "text": [
      "                                                filename            artist  \\\n",
      "67     Abstract_Expressionism/andy-warhol_oxidation-p...       andy warhol   \n",
      "68     Abstract_Expressionism/andy-warhol_oxidation-p...       andy warhol   \n",
      "69     Abstract_Expressionism/andy-warhol_rorschach-1...       andy warhol   \n",
      "720    Abstract_Expressionism/henri-matisse_bather-in...     henri matisse   \n",
      "721    Abstract_Expressionism/henri-matisse_bees-1948...     henri matisse   \n",
      "...                                                  ...               ...   \n",
      "80029             Romanticism/ferdinand-hodler_dream.jpg  ferdinand hodler   \n",
      "80032  High_Renaissance/titian_christ-carrying-the-cr...            titian   \n",
      "80036  Impressionism/mary-cassatt_portrait-of-miss-ca...      mary cassatt   \n",
      "80037  Impressionism/edgar-degas_portrait-of-mary-cas...       edgar degas   \n",
      "80039  High_Renaissance/titian_portrait-of-a-venetian...            titian   \n",
      "\n",
      "                            genre                                 description  \\\n",
      "67     ['Abstract Expressionism']                   oxidation-painting-1978-1   \n",
      "68     ['Abstract Expressionism']                     oxidation-painting-1978   \n",
      "69     ['Abstract Expressionism']                              rorschach-1984   \n",
      "720    ['Abstract Expressionism']                    bather-in-the-reeds-1952   \n",
      "721    ['Abstract Expressionism']                                   bees-1948   \n",
      "...                           ...                                         ...   \n",
      "80029             ['Romanticism']                                       dream   \n",
      "80032        ['High Renaissance']              christ-carrying-the-cross-1507   \n",
      "80036           ['Impressionism']  portrait-of-miss-cassatt-holding-the-cards   \n",
      "80037           ['Impressionism']                    portrait-of-mary-cassatt   \n",
      "80039        ['High Renaissance']          portrait-of-a-venetian-nobleman(1)   \n",
      "\n",
      "                  phash width height genre_count            subset  \n",
      "67     da95c54ac964965b  1382   1630           1             train  \n",
      "68     e4b31b5642af86c9  1382   1988           1             train  \n",
      "69     fd6892b7c1929a68  1382   1607           1             train  \n",
      "720    b7c9d93446b233c8  1958   1382           1             train  \n",
      "721    aa85d5e885ded0e8  3117   1382           1             train  \n",
      "...                 ...   ...    ...         ...               ...  \n",
      "80029  cddb1234e10d693b  2213   1382           1  uncertain artist  \n",
      "80032  d74b08b06cce93e6  1802   1382           1  uncertain artist  \n",
      "80036  fc8d8c9c49e15365  1382   1756           1  uncertain artist  \n",
      "80037  fc8d8c9c49e15365  1382   1756           1  uncertain artist  \n",
      "80039  fcfc9b330325708c  1382   1645           1  uncertain artist  \n",
      "\n",
      "[35939 rows x 9 columns]\n"
     ]
    }
   ],
   "source": [
    "print(top_artist)"
   ]
  },
  {
   "cell_type": "code",
   "execution_count": 15,
   "metadata": {},
   "outputs": [],
   "source": [
    "top_artist.to_csv('top_artistsData.csv', index=False)  "
   ]
  }
 ],
 "metadata": {
  "kernelspec": {
   "display_name": "Python 3",
   "language": "python",
   "name": "python3"
  },
  "language_info": {
   "codemirror_mode": {
    "name": "ipython",
    "version": 3
   },
   "file_extension": ".py",
   "mimetype": "text/x-python",
   "name": "python",
   "nbconvert_exporter": "python",
   "pygments_lexer": "ipython3",
   "version": "3.12.1"
  }
 },
 "nbformat": 4,
 "nbformat_minor": 2
}
